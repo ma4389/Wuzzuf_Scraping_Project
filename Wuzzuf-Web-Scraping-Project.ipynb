{
 "cells": [
  {
   "cell_type": "code",
   "execution_count": 1,
   "metadata": {},
   "outputs": [],
   "source": [
    "import requests\n",
    "import csv\n",
    "import pandas as pd \n",
    "import json\n",
    "from bs4 import BeautifulSoup"
   ]
  },
  {
   "cell_type": "code",
   "execution_count": 2,
   "metadata": {},
   "outputs": [],
   "source": [
    "req = requests.get('https://wuzzuf.net/search/jobs/?q=&a=hpb')"
   ]
  },
  {
   "cell_type": "code",
   "execution_count": 3,
   "metadata": {},
   "outputs": [],
   "source": [
    "soup = BeautifulSoup(req.text , 'html.parser')"
   ]
  },
  {
   "cell_type": "code",
   "execution_count": 4,
   "metadata": {},
   "outputs": [],
   "source": [
    "job_title = soup.find_all('a' , attrs = {'class' : \"css-o171kl\"})"
   ]
  },
  {
   "cell_type": "code",
   "execution_count": 5,
   "metadata": {},
   "outputs": [
    {
     "name": "stdout",
     "output_type": "stream",
     "text": [
      "Customer Service Representative - English\n",
      "Entry Level\n",
      " · Customer Service/Support\n",
      " · Operations/Management\n",
      "Talent Management Manager\n",
      "Manager\n",
      " · Human Resources\n",
      "First Waves - English Call Center Representative\n",
      "Entry Level\n",
      " · Customer Service/Support\n",
      " · Other\n",
      " · Sales/Retail\n",
      "Systems Administrator / IT Operations Specialist - Working Remotely\n",
      "Experienced\n",
      " · Installation/Maintenance/Repair\n",
      " · IT/Software Development\n",
      " · Engineering - Telecom/Technology\n",
      "Project Manager - Working Remotely\n",
      "Manager\n",
      " · IT/Software Development\n",
      " · Project/Program Management\n",
      "Technical Support Engineer (windows server/active directory/ Fluent English speaker)\n",
      "Experienced\n",
      " · IT/Software Development\n",
      "Chief Operating Officer\n",
      "Senior Management\n",
      " · Accounting/Finance\n",
      " · Operations/Management\n",
      " · C-Level Executive/GM/Director\n",
      "English Customer Service - US Account\n",
      "Entry Level\n",
      " · Customer Service/Support\n",
      "Mobile Engineer (kotlin & swift) (remote)\n",
      "Experienced\n",
      " · IT/Software Development\n",
      " · Engineering - Telecom/Technology\n",
      "Lobby Ambassador\n",
      "Not specified\n",
      " · Administration\n",
      " · Customer Service/Support\n",
      " · Hospitality/Hotels/Food Services\n",
      "Quality Engineer\n",
      "Not specified\n",
      " · IT/Software Development\n",
      " · Quality\n",
      " · Engineering - Telecom/Technology\n",
      "Team Leader - Front Desk\n",
      "Not specified\n",
      " · IT/Software Development\n",
      " · Sales/Retail\n",
      " · Engineering - Telecom/Technology\n",
      "Internship - Food & Beverage - January 2024\n",
      "Not specified\n",
      " · IT/Software Development\n",
      " · Marketing/PR/Advertising\n",
      " · Engineering - Telecom/Technology\n",
      "Waiter / Waitress\n",
      "Not specified\n",
      " · Customer Service/Support\n",
      " · Hospitality/Hotels/Food Services\n",
      " · Sales/Retail\n",
      "Commis II\n",
      "Not specified\n",
      " · Administration\n",
      " · Hospitality/Hotels/Food Services\n",
      " · Operations/Management\n",
      "Accounting/Finance\n",
      "Administration\n",
      "Analyst/Research\n",
      "Android Jobs\n",
      "Banking\n",
      "Business Development\n",
      "C-Level Executive/GM/Director\n",
      "Creative/Design/Art\n",
      "Customer Service/Support\n",
      "Education/Teaching\n",
      "Engineering - Construction/Civil/Architecture\n",
      "Engineering - Mechanical/Electrical\n",
      "Engineering - Oil & Gas/Energy\n",
      "Engineering - Other\n",
      "Engineering - Telecom/Technology\n",
      "Fashion\n",
      "Hospitality/Hotels/Food Services\n",
      "Human Resources\n",
      "IT/Software Development\n",
      "Installation/Maintenance/Repair\n",
      "Internships in Egypt\n",
      "Legal\n",
      "Logistics/Supply Chain\n",
      "Manufacturing/Production\n",
      "Marketing/PR/Advertising\n",
      "Media/Journalism/Publishing\n",
      "Medical/Healthcare\n",
      "Operations/Management\n",
      "Pharmaceutical\n",
      "Project/Program Management\n",
      "Purchasing/Procurement\n",
      "Quality\n",
      "R&D/Science\n",
      "Sales/Retail\n",
      "Sports and Leisure\n",
      "Startup Jobs\n",
      "Strategy/Consulting\n",
      "Tourism/Travel\n",
      "Training/Instructor\n",
      "Writing/Editorial\n",
      "Jobs in Cairo\n",
      "Jobs in Giza\n",
      "Jobs in Dubai\n",
      "Jobs in Alexandria\n",
      "Jobs in Riyadh\n",
      "Jobs in Sharqia\n",
      "Jobs in Doha\n",
      "Jobs in Abu Dhabi\n",
      "Jobs in Dakahlia\n",
      "Jobs in Kuwait City\n",
      "Jobs in Qalubia\n",
      "Jobs in Jeddah\n",
      "Jobs in Monufya\n",
      "Jobs in Beni Suef\n",
      "Jobs in Gharbia\n",
      "Jobs in Suez\n",
      "Jobs in Dammam\n",
      "Jobs in Red Sea\n",
      "Jobs in Assiut\n",
      "Jobs in Damietta\n",
      "Jobs in Beheira\n",
      "Jobs in Makkah\n",
      "Jobs in Ismailia\n",
      "Jobs in Port Said\n",
      "Jobs in South Sinai\n",
      "Jobs in New Cairo\n",
      "Jobs in Maadi\n",
      "Jobs in Nasr City\n",
      "Jobs in 6th of October\n",
      "Jobs in Heliopolis\n",
      "Jobs in Sheikh Zayed\n",
      "Jobs in Mohandessin\n",
      "Jobs in Dokki\n",
      "Jobs in Sheraton\n",
      "Jobs in Obour City\n",
      "Jobs in 10th of Ramadan City\n",
      "Jobs in 10th of Ramadan City\n",
      "Jobs in Katameya\n",
      "Jobs in Downtown\n",
      "Jobs in Bourj Alarab\n",
      "Jobs in Mokattam\n",
      "Jobs in Abu Rawash\n",
      "Jobs in New Capital\n",
      "Jobs in Haram\n",
      "Jobs in Smart Village\n",
      "Jobs in Giza\n",
      "Jobs in Zamalek\n",
      "Jobs in Badr City\n",
      "Jobs in Smouha\n",
      "Jobs in Madinaty\n"
     ]
    }
   ],
   "source": [
    "for job in job_title:\n",
    "    print(job.get_text())"
   ]
  },
  {
   "cell_type": "code",
   "execution_count": 6,
   "metadata": {},
   "outputs": [
    {
     "name": "stdout",
     "output_type": "stream",
     "text": [
      "https://wuzzuf.net/jobs/p/TXCe5FyMiIEE-Customer-Service-Representative---English-Sutherland-Cairo-Egypt\n",
      "/a/Entry-Level-Jobs-in-Egypt\n",
      "/a/Customer-Service-Jobs-in-Egypt\n",
      "/a/Operations-Management-Jobs-in-Egypt\n",
      "https://wuzzuf.net/jobs/p/uNNsVRg2Jf5M-Talent-Management-Manager-Delta-Textile-Egypt-Minya-Egypt\n",
      "/a/Manager-Jobs-in-Egypt\n",
      "/a/Human-Resources-HR-Jobs-in-Egypt\n",
      "https://wuzzuf.net/jobs/p/jDbYNjKzgPjI-First-Waves---English-Call-Center-Representative-Sutherland-Cairo-Egypt\n",
      "/a/Entry-Level-Jobs-in-Egypt\n",
      "/a/Customer-Service-Jobs-in-Egypt\n",
      "/a/Other-Jobs-in-Egypt\n",
      "/a/Sales-Jobs-in-Egypt\n",
      "https://wuzzuf.net/jobs/p/S2F2badDYxyh-Systems-Administrator-IT-Operations-Specialist---Working-Remotely-Vice-Keeper-Cairo-Egypt\n",
      "/a/Experienced-Jobs-in-Egypt\n",
      "/a/Installation-Maintenance-Jobs-in-Egypt\n",
      "/a/IT-Software-Development-Jobs-in-Egypt\n",
      "/a/Engineering-Telecom-Technology-Jobs-in-Egypt\n",
      "https://wuzzuf.net/jobs/p/ENzAim1ju5QB-Project-Manager---Working-Remotely-Vice-Keeper-Cairo-Egypt\n",
      "/a/Manager-Jobs-in-Egypt\n",
      "/a/IT-Software-Development-Jobs-in-Egypt\n",
      "/a/Program-Project-Management-Jobs-in-Egypt\n",
      "https://wuzzuf.net/jobs/p/fERHQIBNSILK-Technical-Support-Engineer-windows-serveractive-directory-Fluent-English-speaker-FlairsTech-Cairo-Egypt\n",
      "/a/Experienced-Jobs-in-Egypt\n",
      "/a/IT-Software-Development-Jobs-in-Egypt\n",
      "https://wuzzuf.net/jobs/p/QdsWO7vFlRzy-Chief-Operating-Officer-Black-Grey-HR-Riyadh-Saudi-Arabia\n",
      "/a/Senior-Management-Jobs-in-Saudi-Arabia\n",
      "/a/Accounting-Finance-Jobs-in-Saudi-Arabia\n",
      "/a/Operations-Management-Jobs-in-Saudi-Arabia\n",
      "/a/Executive-GM-Director-Jobs-in-Saudi-Arabia\n",
      "https://wuzzuf.net/jobs/p/ZZ3gwzbM1hf2-English-Customer-Service---US-Account-Sutherland-Cairo-Egypt\n",
      "/a/Entry-Level-Jobs-in-Egypt\n",
      "/a/Customer-Service-Jobs-in-Egypt\n",
      "https://wuzzuf.net/jobs/p/hqjlcdVNkxzh-Mobile-Engineer-kotlin-swift-remote-Dubai-United-Arab-Emirates\n",
      "/a/Experienced-Jobs-in-United-Arab-Emirates\n",
      "/a/IT-Software-Development-Jobs-in-United-Arab-Emirates\n",
      "/a/Engineering-Telecom-Technology-Jobs-in-United-Arab-Emirates\n",
      "https://wuzzuf.net/jobs/p/oUHtDs8yxGOo-Lobby-Ambassador-Al-Bandar-Rotana-Dubai-United-Arab-Emirates\n",
      "/a/Not-Specified-Jobs-in-United-Arab-Emirates\n",
      "/a/Administration-Jobs-in-United-Arab-Emirates\n",
      "/a/Customer-Service-Jobs-in-United-Arab-Emirates\n",
      "/a/Hospitality-Hotels-Food-Jobs-in-United-Arab-Emirates\n",
      "https://wuzzuf.net/jobs/p/SHHeBedxs91A-Quality-Engineer-Raya-Holding-for-Financial-Investments-Cairo-Egypt\n",
      "/a/Not-Specified-Jobs-in-Egypt\n",
      "/a/IT-Software-Development-Jobs-in-Egypt\n",
      "/a/Quality-Jobs-in-Egypt\n",
      "/a/Engineering-Telecom-Technology-Jobs-in-Egypt\n",
      "https://wuzzuf.net/jobs/p/cac2sUXtOYuC-Team-Leader---Front-Desk-City-Centre-Rotana-Doha-Qatar\n",
      "/a/Not-Specified-Jobs-in-Qatar\n",
      "/a/IT-Software-Development-Jobs-in-Qatar\n",
      "/a/Sales-Jobs-in-Qatar\n",
      "/a/Engineering-Telecom-Technology-Jobs-in-Qatar\n",
      "https://wuzzuf.net/jobs/p/n9kx2OAP4oog-Internship---Food-Beverage---January-2024-Al-Bandar-Rotana-Dubai-United-Arab-Emirates\n",
      "/a/Not-Specified-Jobs-in-United-Arab-Emirates\n",
      "/a/IT-Software-Development-Jobs-in-United-Arab-Emirates\n",
      "/a/Marketing-PR-Advertising-Jobs-in-United-Arab-Emirates\n",
      "/a/Engineering-Telecom-Technology-Jobs-in-United-Arab-Emirates\n",
      "https://wuzzuf.net/jobs/p/9AOqXZ8pXpii-Waiter-Waitress-City-Centre-Rotana-Doha-Qatar\n",
      "/a/Not-Specified-Jobs-in-Qatar\n",
      "/a/Customer-Service-Jobs-in-Qatar\n",
      "/a/Hospitality-Hotels-Food-Jobs-in-Qatar\n",
      "/a/Sales-Jobs-in-Qatar\n",
      "https://wuzzuf.net/jobs/p/sTKJvJkEwAEA-Commis-II-Al-Bandar-Rotana-Dubai-United-Arab-Emirates\n",
      "/a/Not-Specified-Jobs-in-United-Arab-Emirates\n",
      "/a/Administration-Jobs-in-United-Arab-Emirates\n",
      "/a/Hospitality-Hotels-Food-Jobs-in-United-Arab-Emirates\n",
      "/a/Operations-Management-Jobs-in-United-Arab-Emirates\n",
      "/a/Accounting-Finance-Jobs-in-Egypt\n",
      "/a/Administration-Jobs-in-Egypt\n",
      "/a/Analyst-Research-Jobs-in-Egypt\n",
      "/a/Android-Mobile-Development-Jobs-in-Egypt\n",
      "/a/Banking-Jobs-in-Egypt\n",
      "/a/Business-Jobs-in-Egypt\n",
      "/a/Executive-GM-Director-Jobs-in-Egypt\n",
      "/a/Creative-Design-Art-Jobs-in-Egypt\n",
      "/a/Customer-Service-Jobs-in-Egypt\n",
      "/a/Education-Teaching-Jobs-in-Egypt\n",
      "/a/Engineering-Construction-Civil-Architecture-Jobs-in-Egypt\n",
      "/a/Engineering-Mechanical-Electrical-Jobs-in-Egypt\n",
      "/a/Engineering-Oil-Gas-Energy-Jobs-in-Egypt\n",
      "/a/Engineering-Jobs-in-Egypt\n",
      "/a/Engineering-Telecom-Technology-Jobs-in-Egypt\n",
      "/a/Fashion-Jobs-in-Egypt\n",
      "/a/Hospitality-Hotels-Food-Jobs-in-Egypt\n",
      "/a/Human-Resources-HR-Jobs-in-Egypt\n",
      "/a/IT-Software-Development-Jobs-in-Egypt\n",
      "/a/Installation-Maintenance-Jobs-in-Egypt\n",
      "/a/Internships-Jobs-in-Egypt\n",
      "/a/Legal-Jobs-in-Egypt\n",
      "/a/Logistics-Supply-Chain-Jobs-in-Egypt\n",
      "/a/Manufacturing-Production-Jobs-in-Egypt\n",
      "/a/Marketing-PR-Advertising-Jobs-in-Egypt\n",
      "/a/Media-Journalism-Publishing-Jobs-in-Egypt\n",
      "/a/Healthcare-Medical-Jobs-in-Egypt\n",
      "/a/Operations-Management-Jobs-in-Egypt\n",
      "/a/Pharmaceutical-Jobs-in-Egypt\n",
      "/a/Program-Project-Management-Jobs-in-Egypt\n",
      "/a/Purchasing-Procurement-Jobs-in-Egypt\n",
      "/a/Quality-Jobs-in-Egypt\n",
      "/a/R-D-Science-Jobs-in-Egypt\n",
      "/a/Sales-Jobs-in-Egypt\n",
      "/a/Sports-Leisure-Jobs-in-Egypt\n",
      "/a/Startup-Jobs-in-Egypt\n",
      "/a/Strategy-Consulting-Jobs-in-Egypt\n",
      "/a/Tourism-Travel-Jobs-in-Egypt\n",
      "/a/Training-Instructor-Jobs-in-Egypt\n",
      "/a/Editorial-Writing-Jobs-in-Egypt\n",
      "/a/Jobs-in-Cairo\n",
      "/a/Jobs-in-Giza\n",
      "/a/Jobs-in-Dubai\n",
      "/a/Jobs-in-Alexandria\n",
      "/a/Jobs-in-Riyadh\n",
      "/a/Jobs-in-Sharqia\n",
      "/a/Jobs-in-Doha\n",
      "/a/Jobs-in-Abu-Dhabi\n",
      "/a/Jobs-in-Dakahlia\n",
      "/a/Jobs-in-Kuwait-City\n",
      "/a/Jobs-in-Qalubia\n",
      "/a/Jobs-in-Jeddah\n",
      "/a/Jobs-in-Monufya\n",
      "/a/Jobs-in-Beni-Suef\n",
      "/a/Jobs-in-Gharbia\n",
      "/a/Jobs-in-Suez\n",
      "/a/Jobs-in-Dammam\n",
      "/a/Jobs-in-Red-Sea\n",
      "/a/Jobs-in-Assiut\n",
      "/a/Jobs-in-Damietta\n",
      "/a/Jobs-in-Beheira\n",
      "/a/Jobs-in-Makkah\n",
      "/a/Jobs-in-Ismailia\n",
      "/a/Jobs-in-Port-Said\n",
      "/a/Jobs-in-South-Sinai\n",
      "/a/Jobs-in-New-Cairo\n",
      "/a/Jobs-in-Maadi\n",
      "/a/Jobs-in-Nasr-City\n",
      "/a/Jobs-in-6th-Of-October\n",
      "/a/Jobs-in-Heliopolis\n",
      "/a/Jobs-in-Sheikh-Zayed\n",
      "/a/Jobs-in-Mohandessin\n",
      "/a/Jobs-in-Dokki\n",
      "/a/Jobs-in-Sheraton\n",
      "/a/Jobs-in-Obour-City\n",
      "/a/Jobs-in-10th-Of-Ramadan-City\n",
      "/a/Jobs-in-10th-Of-Ramadan-City\n",
      "/a/Jobs-in-Katameya\n",
      "/a/Jobs-in-Downtown\n",
      "/a/Jobs-in-Bourj-Alarab\n",
      "/a/Jobs-in-Mokattam\n",
      "/a/Jobs-in-Abu-Rawash\n",
      "/a/Jobs-in-New-Capital\n",
      "/a/Jobs-in-Haram\n",
      "/a/Jobs-in-Smart-Village\n",
      "/a/Jobs-in-Giza\n",
      "/a/Jobs-in-Zamalek\n",
      "/a/Jobs-in-Badr-City\n",
      "/a/Jobs-in-Smouha\n",
      "/a/Jobs-in-Madinaty\n"
     ]
    }
   ],
   "source": [
    "for job in job_title:\n",
    "    print(job.get('href'))"
   ]
  },
  {
   "cell_type": "code",
   "execution_count": 7,
   "metadata": {},
   "outputs": [],
   "source": [
    "job_links = soup.find_all('a' , attrs = {'class' : \"css-o171kl\"})"
   ]
  },
  {
   "cell_type": "code",
   "execution_count": 8,
   "metadata": {},
   "outputs": [
    {
     "data": {
      "text/plain": [
       "[]"
      ]
     },
     "execution_count": 8,
     "metadata": {},
     "output_type": "execute_result"
    }
   ],
   "source": [
    "soup.find_all('href')"
   ]
  },
  {
   "cell_type": "code",
   "execution_count": 9,
   "metadata": {},
   "outputs": [],
   "source": [
    "times = soup.find_all('span' , attrs = {'class' : \"css-1ve4b75 eoyjyou0\"})"
   ]
  },
  {
   "cell_type": "code",
   "execution_count": 10,
   "metadata": {},
   "outputs": [
    {
     "name": "stdout",
     "output_type": "stream",
     "text": [
      "Full Time\n",
      "Full Time\n",
      "Full Time\n",
      "Shift Based\n",
      "Full Time\n",
      "Work From Home\n",
      "Full Time\n",
      "Work From Home\n",
      "Full Time\n",
      "Full Time\n",
      "Full Time\n",
      "Full Time\n",
      "Work From Home\n",
      "Full Time\n",
      "Full Time\n",
      "Full Time\n",
      "Full Time\n",
      "Full Time\n",
      "Full Time\n"
     ]
    }
   ],
   "source": [
    "for time in times:\n",
    "    print(time.get_text())"
   ]
  },
  {
   "cell_type": "code",
   "execution_count": 11,
   "metadata": {},
   "outputs": [],
   "source": [
    "experience_link = soup.find_all('a' , attrs = {'class' : \"css-5x9pm1\"})"
   ]
  },
  {
   "cell_type": "code",
   "execution_count": 12,
   "metadata": {},
   "outputs": [
    {
     "data": {
      "text/plain": [
       "' · Customer Service'"
      ]
     },
     "execution_count": 12,
     "metadata": {},
     "output_type": "execute_result"
    }
   ],
   "source": [
    "experience_link[1].text"
   ]
  },
  {
   "cell_type": "code",
   "execution_count": 13,
   "metadata": {},
   "outputs": [
    {
     "name": "stdout",
     "output_type": "stream",
     "text": [
      " · Customer Care\n",
      " · Customer Service\n",
      " · Customer Support\n",
      " · English\n",
      " · Fluency in English\n",
      " · Technical Support\n",
      " · Customer Retention\n",
      " · Customer Support Specialist\n",
      " · Manufacturing\n",
      " · HR\n",
      " · Call Center\n",
      " · CS\n",
      " · Customer\n",
      " · Customer Care\n",
      " · Customer Service\n",
      " · Customer Support\n",
      " · Customer Retention\n",
      " · API\n",
      " · Computer Science\n",
      " · Communication\n",
      " · Information Technology (IT)\n",
      " · IT Systems\n",
      " · IT\n",
      " · networks\n",
      " · Communication\n",
      " · Computer Science\n",
      " · Development\n",
      " · Information Technology (IT)\n",
      " · Programming\n",
      " · Project\n",
      " · Project Management\n",
      " · Software Development\n",
      " · B2B\n",
      " · Engineering\n",
      " · Networking\n",
      " · Windows\n",
      " · Computer Science\n",
      " · Technical Support\n",
      " · Support\n",
      " · Skills\n",
      " · Active Directory\n",
      " · Finance\n",
      " · Accounting\n",
      " · Operations\n",
      " · Financial Management\n",
      " · Financial Analysis\n",
      " · Microsoft Office\n",
      " · Management\n",
      " · Customer Service\n",
      " · Customer Support\n",
      " · Customer Care\n",
      " · Customer Relations\n",
      " · Customer Satisfaction\n",
      " · Customer Retention\n",
      " · Customer Operations Performance Centre\n",
      " · Customer Service Management\n",
      " · Customer Experience\n",
      " · Git\n",
      " · Computer Science\n",
      " · Software Development\n",
      " · Kotlin\n",
      " · Swift\n",
      " · UI\n",
      " · XML\n",
      " · rotana\n",
      " · escorting\n",
      " · guests\n",
      " · hotel\n",
      " · services\n",
      " · Quality Control\n",
      " · Engineering\n",
      " · Quality Assurance\n",
      " · Quality\n",
      " · Computer Science\n",
      " · Information Technology (IT)\n",
      " · Software Testing\n",
      " · Sales\n",
      " · Sales Skills\n",
      " · Information Technology (IT)\n",
      " · Sales Target\n",
      " · Computer Science\n",
      " · Customer Service\n",
      " · Real Estate\n",
      " · Marketing\n",
      " · Information Technology (IT)\n",
      " · Computer Science\n",
      " · Startup\n",
      " · Engineering\n",
      " · Social Media\n",
      " · Communication Skills\n",
      " · hospitality\n",
      " · hotel\n",
      " · customer service\n",
      " · waiter\n",
      " · chef\n",
      " · kitchen\n",
      " · duties\n",
      " · recipes\n",
      " · responsibilities\n"
     ]
    }
   ],
   "source": [
    "for experience in experience_link:\n",
    "    print(experience.get_text())"
   ]
  },
  {
   "cell_type": "code",
   "execution_count": 14,
   "metadata": {},
   "outputs": [],
   "source": [
    "companies = soup.find_all('a' , attrs = {'class' : \"css-17s97q8\"})"
   ]
  },
  {
   "cell_type": "code",
   "execution_count": 15,
   "metadata": {},
   "outputs": [
    {
     "data": {
      "text/plain": [
       "[<a class=\"css-17s97q8\" href=\"https://wuzzuf.net/jobs/careers/Sutherland-Global-Services-Egypt-1009\" rel=\"noreferrer\" target=\"_blank\">Sutherland -</a>,\n",
       " <a class=\"css-17s97q8\" href=\"https://wuzzuf.net/jobs/careers/Delta-Textile-Egypt--Egypt-43931\" rel=\"noreferrer\" target=\"_blank\">(Delta Textile Egypt) -</a>,\n",
       " <a class=\"css-17s97q8\" href=\"https://wuzzuf.net/jobs/careers/Sutherland-Global-Services-Egypt-1009\" rel=\"noreferrer\" target=\"_blank\">Sutherland -</a>,\n",
       " <a class=\"css-17s97q8\" href=\"https://wuzzuf.net/jobs/careers/King-keeper-child-skills-development-LLC-United-Arab-Emirates-97248\" rel=\"noreferrer\" target=\"_blank\">Vice Keeper -</a>,\n",
       " <a class=\"css-17s97q8\" href=\"https://wuzzuf.net/jobs/careers/King-keeper-child-skills-development-LLC-United-Arab-Emirates-97248\" rel=\"noreferrer\" target=\"_blank\">Vice Keeper -</a>,\n",
       " <a class=\"css-17s97q8\" href=\"https://wuzzuf.net/jobs/careers/Flairstech-Egypt-1631\" rel=\"noreferrer\" target=\"_blank\">FlairsTech -</a>,\n",
       " <a class=\"css-17s97q8\" href=\"https://wuzzuf.net/jobs/careers/Black &amp; Grey HR-United Arab Emirates-91368\" rel=\"noreferrer\" target=\"_blank\">Black &amp; Grey HR -</a>,\n",
       " <a class=\"css-17s97q8\" href=\"https://wuzzuf.net/jobs/careers/Sutherland-Global-Services-Egypt-1009\" rel=\"noreferrer\" target=\"_blank\">Sutherland -</a>,\n",
       " <a class=\"css-17s97q8\" rel=\"noreferrer\" target=\"_blank\">Confidential -</a>,\n",
       " <a class=\"css-17s97q8\" href=\"https://wuzzuf.net/jobs/careers/Al Bandar Rotana-United Arab Emirates-92999\" rel=\"noreferrer\" target=\"_blank\">Al Bandar Rotana -</a>,\n",
       " <a class=\"css-17s97q8\" href=\"https://wuzzuf.net/jobs/careers/Raya Holding for Financial Investments-Egypt-91415\" rel=\"noreferrer\" target=\"_blank\">Raya Holding for Financial Investments -</a>,\n",
       " <a class=\"css-17s97q8\" href=\"https://wuzzuf.net/jobs/careers/City Centre Rotana-Qatar-91752\" rel=\"noreferrer\" target=\"_blank\">City Centre Rotana -</a>,\n",
       " <a class=\"css-17s97q8\" href=\"https://wuzzuf.net/jobs/careers/Al Bandar Rotana-United Arab Emirates-92999\" rel=\"noreferrer\" target=\"_blank\">Al Bandar Rotana -</a>,\n",
       " <a class=\"css-17s97q8\" href=\"https://wuzzuf.net/jobs/careers/City Centre Rotana-Qatar-91752\" rel=\"noreferrer\" target=\"_blank\">City Centre Rotana -</a>,\n",
       " <a class=\"css-17s97q8\" href=\"https://wuzzuf.net/jobs/careers/Al Bandar Rotana-United Arab Emirates-92999\" rel=\"noreferrer\" target=\"_blank\">Al Bandar Rotana -</a>]"
      ]
     },
     "execution_count": 15,
     "metadata": {},
     "output_type": "execute_result"
    }
   ],
   "source": [
    "companies"
   ]
  },
  {
   "cell_type": "code",
   "execution_count": 16,
   "metadata": {},
   "outputs": [
    {
     "name": "stdout",
     "output_type": "stream",
     "text": [
      "Sutherland -\n",
      "(Delta Textile Egypt) -\n",
      "Sutherland -\n",
      "Vice Keeper -\n",
      "Vice Keeper -\n",
      "FlairsTech -\n",
      "Black & Grey HR -\n",
      "Sutherland -\n",
      "Confidential -\n",
      "Al Bandar Rotana -\n",
      "Raya Holding for Financial Investments -\n",
      "City Centre Rotana -\n",
      "Al Bandar Rotana -\n",
      "City Centre Rotana -\n",
      "Al Bandar Rotana -\n"
     ]
    }
   ],
   "source": [
    "for company in companies:\n",
    "    print(company.get_text())"
   ]
  },
  {
   "cell_type": "code",
   "execution_count": 17,
   "metadata": {},
   "outputs": [],
   "source": [
    "locations = soup.find_all('span' , attrs = {'class' : \"css-5wys0k\"} )"
   ]
  },
  {
   "cell_type": "code",
   "execution_count": 18,
   "metadata": {},
   "outputs": [
    {
     "data": {
      "text/plain": [
       "[<span class=\"css-5wys0k\">New Cairo, <!-- -->Cairo, <!-- -->Egypt </span>,\n",
       " <span class=\"css-5wys0k\">New Menia, <!-- -->Minya, <!-- -->Egypt </span>,\n",
       " <span class=\"css-5wys0k\">New Cairo, <!-- -->Cairo, <!-- -->Egypt </span>,\n",
       " <span class=\"css-5wys0k\">Cairo, <!-- -->Egypt </span>,\n",
       " <span class=\"css-5wys0k\">Cairo, <!-- -->Egypt </span>,\n",
       " <span class=\"css-5wys0k\">Maadi, <!-- -->Cairo, <!-- -->Egypt </span>,\n",
       " <span class=\"css-5wys0k\">Riyadh, <!-- -->Saudi Arabia </span>,\n",
       " <span class=\"css-5wys0k\">New Cairo, <!-- -->Cairo, <!-- -->Egypt </span>,\n",
       " <span class=\"css-5wys0k\">Dubai, <!-- -->United Arab Emirates </span>,\n",
       " <span class=\"css-5wys0k\">Dubai, <!-- -->United Arab Emirates </span>,\n",
       " <span class=\"css-5wys0k\">Cairo, <!-- -->Egypt </span>,\n",
       " <span class=\"css-5wys0k\">Doha, <!-- -->Qatar </span>,\n",
       " <span class=\"css-5wys0k\">Dubai, <!-- -->United Arab Emirates </span>,\n",
       " <span class=\"css-5wys0k\">Doha, <!-- -->Qatar </span>,\n",
       " <span class=\"css-5wys0k\">Dubai, <!-- -->United Arab Emirates </span>]"
      ]
     },
     "execution_count": 18,
     "metadata": {},
     "output_type": "execute_result"
    }
   ],
   "source": [
    "locations"
   ]
  },
  {
   "cell_type": "code",
   "execution_count": 19,
   "metadata": {
    "scrolled": true
   },
   "outputs": [
    {
     "name": "stdout",
     "output_type": "stream",
     "text": [
      "New Cairo, Cairo, Egypt \n",
      "New Menia, Minya, Egypt \n",
      "New Cairo, Cairo, Egypt \n",
      "Cairo, Egypt \n",
      "Cairo, Egypt \n",
      "Maadi, Cairo, Egypt \n",
      "Riyadh, Saudi Arabia \n",
      "New Cairo, Cairo, Egypt \n",
      "Dubai, United Arab Emirates \n",
      "Dubai, United Arab Emirates \n",
      "Cairo, Egypt \n",
      "Doha, Qatar \n",
      "Dubai, United Arab Emirates \n",
      "Doha, Qatar \n",
      "Dubai, United Arab Emirates \n"
     ]
    }
   ],
   "source": [
    "for location in locations:\n",
    "    print(location.get_text())"
   ]
  },
  {
   "cell_type": "code",
   "execution_count": 25,
   "metadata": {},
   "outputs": [],
   "source": [
    "\n",
    "with open('Wuzuf.csv', mode='w', newline='', encoding='utf-8') as f:\n",
    "    fieldnames = ['JobTitle', 'Location', 'Experience', 'Company', 'Time', 'JobLink']\n",
    "    writer = csv.DictWriter(f, fieldnames=fieldnames)\n",
    "    writer.writeheader()\n",
    "    for job_listing in soup.find_all('div', attrs={'class': \"css-g366dn\"}):\n",
    "        job_details = {}\n",
    "        JobTitle_elements = job_listing.find_all('a', class_='css-o171kl')\n",
    "        job_details['JobTitle'] = JobTitle_elements[0].get_text().strip()\n",
    "        Experience_elements = job_listing.find_all('a', class_='css-5x9pm1')\n",
    "        job_details['Experience'] = Experience_elements[0].get_text()[1:]\n",
    "        Time_elements = job_listing.find_all('span', class_='css-1ve4b75 eoyjyou0')\n",
    "        job_details['Time'] = Time_elements[0].get_text()[1:]\n",
    "        Company_elements = job_listing.find_all('a', class_='css-17s97q8')\n",
    "        job_details['Company'] = Company_elements[0].get_text()[1:]\n",
    "        Location_elements = job_listing.find_all('span', class_='css-5wys0k')\n",
    "        job_details['Location'] = Location_elements[0].get_text()[1:]\n",
    "        JobLink_elements = job_listing.find_all('a', class_='css-o171kl')\n",
    "        job_details['JobLink'] = JobLink_elements[0].get('href')\n",
    "        writer.writerow(job_details)"
   ]
  },
  {
   "cell_type": "code",
   "execution_count": 26,
   "metadata": {
    "scrolled": true
   },
   "outputs": [
    {
     "data": {
      "text/html": [
       "<div>\n",
       "<style scoped>\n",
       "    .dataframe tbody tr th:only-of-type {\n",
       "        vertical-align: middle;\n",
       "    }\n",
       "\n",
       "    .dataframe tbody tr th {\n",
       "        vertical-align: top;\n",
       "    }\n",
       "\n",
       "    .dataframe thead th {\n",
       "        text-align: right;\n",
       "    }\n",
       "</style>\n",
       "<table border=\"1\" class=\"dataframe\">\n",
       "  <thead>\n",
       "    <tr style=\"text-align: right;\">\n",
       "      <th></th>\n",
       "      <th>JobTitle</th>\n",
       "      <th>Location</th>\n",
       "      <th>Experience</th>\n",
       "      <th>Company</th>\n",
       "      <th>Time</th>\n",
       "      <th>JobLink</th>\n",
       "    </tr>\n",
       "  </thead>\n",
       "  <tbody>\n",
       "    <tr>\n",
       "      <th>0</th>\n",
       "      <td>Customer Service Representative - English</td>\n",
       "      <td>ew Cairo, Cairo, Egypt</td>\n",
       "      <td>· Customer Care</td>\n",
       "      <td>utherland -</td>\n",
       "      <td>ull Time</td>\n",
       "      <td>https://wuzzuf.net/jobs/p/TXCe5FyMiIEE-Custome...</td>\n",
       "    </tr>\n",
       "  </tbody>\n",
       "</table>\n",
       "</div>"
      ],
      "text/plain": [
       "                                    JobTitle                 Location  \\\n",
       "0  Customer Service Representative - English  ew Cairo, Cairo, Egypt    \n",
       "\n",
       "        Experience      Company      Time  \\\n",
       "0  · Customer Care  utherland -  ull Time   \n",
       "\n",
       "                                             JobLink  \n",
       "0  https://wuzzuf.net/jobs/p/TXCe5FyMiIEE-Custome...  "
      ]
     },
     "execution_count": 26,
     "metadata": {},
     "output_type": "execute_result"
    }
   ],
   "source": [
    "data = pd.read_csv('Wuzuf.csv')\n",
    "data"
   ]
  },
  {
   "cell_type": "code",
   "execution_count": null,
   "metadata": {},
   "outputs": [],
   "source": []
  }
 ],
 "metadata": {
  "kernelspec": {
   "display_name": "Python 3",
   "language": "python",
   "name": "python3"
  },
  "language_info": {
   "codemirror_mode": {
    "name": "ipython",
    "version": 3
   },
   "file_extension": ".py",
   "mimetype": "text/x-python",
   "name": "python",
   "nbconvert_exporter": "python",
   "pygments_lexer": "ipython3",
   "version": "3.7.6"
  }
 },
 "nbformat": 4,
 "nbformat_minor": 4
}
